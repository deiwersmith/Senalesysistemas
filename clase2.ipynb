{
  "nbformat": 4,
  "nbformat_minor": 0,
  "metadata": {
    "colab": {
      "provenance": [],
      "authorship_tag": "ABX9TyPQmNIsyRYsKfNS0PLeEV9v",
      "include_colab_link": true
    },
    "kernelspec": {
      "name": "python3",
      "display_name": "Python 3"
    },
    "language_info": {
      "name": "python"
    }
  },
  "cells": [
    {
      "cell_type": "markdown",
      "metadata": {
        "id": "view-in-github",
        "colab_type": "text"
      },
      "source": [
        "<a href=\"https://colab.research.google.com/github/deiwersmith/Senalesysistemas/blob/main/clase2.ipynb\" target=\"_parent\"><img src=\"https://colab.research.google.com/assets/colab-badge.svg\" alt=\"Open In Colab\"/></a>"
      ]
    },
    {
      "cell_type": "code",
      "execution_count": null,
      "metadata": {
        "id": "uriAp0L1z7VB"
      },
      "outputs": [],
      "source": [
        "from google.colab import drive\n",
        "drive.mount('/content/drive')\n"
      ]
    },
    {
      "cell_type": "code",
      "source": [
        "# CLASE 02 - OPERACIONES ENTRE SEÑALES\n",
        "# Cargar las librerías requeridas para procesar el audio usando SciPy\n",
        "\n",
        "# SciPy para analizar el archivo de audio\n",
        "import scipy.io.wavfile as wav\n",
        "\n",
        "# NumPy para operar sobre el arreglo de datos\n",
        "import numpy as np\n",
        "\n",
        "# MatPlotLib para visualizar el gráfico\n",
        "import matplotlib.pyplot as plt\n",
        "plt.rcParams[\"figure.figsize\"] = [10, 5]\n",
        "\n",
        "# IPython.display para reproducir audio directamente en el notebook\n",
        "from IPython.display import Audio\n"
      ],
      "metadata": {
        "id": "-tdAI_FL0SkG"
      },
      "execution_count": null,
      "outputs": []
    }
  ]
}